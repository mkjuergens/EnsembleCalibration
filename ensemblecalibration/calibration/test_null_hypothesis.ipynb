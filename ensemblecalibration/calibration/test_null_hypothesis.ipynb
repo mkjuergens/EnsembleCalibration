{
 "cells": [
  {
   "cell_type": "code",
   "execution_count": 1,
   "metadata": {},
   "outputs": [],
   "source": [
    "import sys\n",
    "sys.path.append('../..')\n",
    "import numpy as np\n",
    "import pandas as pd\n",
    "\n",
    "from ensemblecalibration.calibration.p_value_analysis import npbe_test_null_hypothesis\n",
    "from ensemblecalibration.calibration.config import config_p_value_analysis\n",
    "from run_p_value_analysis import run_analysis_h0"
   ]
  },
  {
   "cell_type": "code",
   "execution_count": 5,
   "metadata": {},
   "outputs": [],
   "source": [
    "# Parameters\n",
    "N_ITERS = 100\n",
    "N_CLASSES = 2\n",
    "N_INSTANCES = 100\n",
    "N_PREDS = 10\n",
    "conf = config_p_value_analysis\n",
    "ALPHA = 0.05"
   ]
  },
  {
   "cell_type": "code",
   "execution_count": 6,
   "metadata": {},
   "outputs": [
    {
     "name": "stdout",
     "output_type": "stream",
     "text": [
      "Running test SKCEul2\n"
     ]
    },
    {
     "name": "stderr",
     "output_type": "stream",
     "text": [
      " 94%|█████████▍| 94/100 [22:19<01:25, 14.25s/it]\n"
     ]
    },
    {
     "ename": "KeyboardInterrupt",
     "evalue": "",
     "output_type": "error",
     "traceback": [
      "\u001b[0;31m---------------------------------------------------------------------------\u001b[0m",
      "\u001b[0;31mKeyboardInterrupt\u001b[0m                         Traceback (most recent call last)",
      "\u001b[1;32m/data/home/mira/EnsembleCalibration/ensemblecalibration/calibration/test_null_hypothesis.ipynb Cell 3\u001b[0m in \u001b[0;36m<cell line: 1>\u001b[0;34m()\u001b[0m\n\u001b[0;32m----> <a href='vscode-notebook-cell://ssh-remote%2Bdeeptought.ugent.be/data/home/mira/EnsembleCalibration/ensemblecalibration/calibration/test_null_hypothesis.ipynb#X13sdnNjb2RlLXJlbW90ZQ%3D%3D?line=0'>1</a>\u001b[0m df \u001b[39m=\u001b[39m run_analysis_h0(tests\u001b[39m=\u001b[39;49mconf, n_iters\u001b[39m=\u001b[39;49mN_ITERS, n_features\u001b[39m=\u001b[39;49mN_INSTANCES, n_predictors\u001b[39m=\u001b[39;49mN_PREDS,\n\u001b[1;32m      <a href='vscode-notebook-cell://ssh-remote%2Bdeeptought.ugent.be/data/home/mira/EnsembleCalibration/ensemblecalibration/calibration/test_null_hypothesis.ipynb#X13sdnNjb2RlLXJlbW90ZQ%3D%3D?line=1'>2</a>\u001b[0m                      n_classes\u001b[39m=\u001b[39;49mN_CLASSES, alpha\u001b[39m=\u001b[39;49mALPHA)\n",
      "File \u001b[0;32m~/EnsembleCalibration/run_p_value_analysis.py:43\u001b[0m, in \u001b[0;36mrun_analysis_h0\u001b[0;34m(tests, n_iters, n_features, n_predictors, n_classes, alpha, results_path)\u001b[0m\n\u001b[1;32m     41\u001b[0m \u001b[39mfor\u001b[39;00m test \u001b[39min\u001b[39;00m tests:\n\u001b[1;32m     42\u001b[0m     \u001b[39mprint\u001b[39m(\u001b[39mf\u001b[39m\u001b[39m\"\u001b[39m\u001b[39mRunning test \u001b[39m\u001b[39m{\u001b[39;00mtest\u001b[39m}\u001b[39;00m\u001b[39m\"\u001b[39m)\n\u001b[0;32m---> 43\u001b[0m     p_vals_h0, stats, decisions \u001b[39m=\u001b[39m npbe_test_null_hypothesis(\n\u001b[1;32m     44\u001b[0m         params\u001b[39m=\u001b[39;49mtests[test][\u001b[39m\"\u001b[39;49m\u001b[39mparams\u001b[39;49m\u001b[39m\"\u001b[39;49m],\n\u001b[1;32m     45\u001b[0m         alpha\u001b[39m=\u001b[39;49malpha,\n\u001b[1;32m     46\u001b[0m         n_iters\u001b[39m=\u001b[39;49mn_iters,\n\u001b[1;32m     47\u001b[0m         n_classes\u001b[39m=\u001b[39;49mn_classes,\n\u001b[1;32m     48\u001b[0m         n_instances\u001b[39m=\u001b[39;49mn_features,\n\u001b[1;32m     49\u001b[0m     )\n\u001b[1;32m     50\u001b[0m     res\u001b[39m.\u001b[39mappend(\u001b[39mlist\u001b[39m(p_vals_h0))\n\u001b[1;32m     52\u001b[0m df \u001b[39m=\u001b[39m pd\u001b[39m.\u001b[39mDataFrame(res)\n",
      "File \u001b[0;32m~/EnsembleCalibration/ensemblecalibration/calibration/p_value_analysis.py:143\u001b[0m, in \u001b[0;36mnpbe_test_null_hypothesis\u001b[0;34m(params, alpha, n_iters, n_classes, n_instances)\u001b[0m\n\u001b[1;32m    141\u001b[0m p_probs \u001b[39m=\u001b[39m np\u001b[39m.\u001b[39mrandom\u001b[39m.\u001b[39mdirichlet([\u001b[39m1\u001b[39m] \u001b[39m*\u001b[39m n_classes, size\u001b[39m=\u001b[39mn_instances)\n\u001b[1;32m    142\u001b[0m y_labels \u001b[39m=\u001b[39m np\u001b[39m.\u001b[39mapply_along_axis(multinomial_label_sampling, \u001b[39m1\u001b[39m, p_probs)\n\u001b[0;32m--> 143\u001b[0m decision, p_val, stat \u001b[39m=\u001b[39m npbe_test_vaicenavicius(p_probs, y_labels, params)\n\u001b[1;32m    144\u001b[0m p_vals[n] \u001b[39m=\u001b[39m p_val\n\u001b[1;32m    145\u001b[0m stats[n] \u001b[39m=\u001b[39m stat\n",
      "File \u001b[0;32m~/EnsembleCalibration/ensemblecalibration/calibration/p_value_analysis.py:177\u001b[0m, in \u001b[0;36mnpbe_test_vaicenavicius\u001b[0;34m(p_probs, y_labels, params)\u001b[0m\n\u001b[1;32m    175\u001b[0m p_probs_b \u001b[39m=\u001b[39m np\u001b[39m.\u001b[39mstack(p_probs_b)\n\u001b[1;32m    176\u001b[0m \u001b[39m# sample labels according to categorical distribution\u001b[39;00m\n\u001b[0;32m--> 177\u001b[0m y_b \u001b[39m=\u001b[39m np\u001b[39m.\u001b[39;49mapply_along_axis(multinomial_label_sampling, \u001b[39m1\u001b[39;49m, p_probs_b)\n\u001b[1;32m    178\u001b[0m \u001b[39m# calculate test statistic under null hypothesis\u001b[39;00m\n\u001b[1;32m    179\u001b[0m stats_h0[b] \u001b[39m=\u001b[39m params[\u001b[39m\"\u001b[39m\u001b[39mobj\u001b[39m\u001b[39m\"\u001b[39m](p_probs_b, y_b, params)\n",
      "File \u001b[0;32m<__array_function__ internals>:180\u001b[0m, in \u001b[0;36mapply_along_axis\u001b[0;34m(*args, **kwargs)\u001b[0m\n",
      "File \u001b[0;32m/opt/Anaconda3/envs/calibration_env/lib/python3.8/site-packages/numpy/lib/shape_base.py:402\u001b[0m, in \u001b[0;36mapply_along_axis\u001b[0;34m(func1d, axis, arr, *args, **kwargs)\u001b[0m\n\u001b[1;32m    400\u001b[0m buff[ind0] \u001b[39m=\u001b[39m res\n\u001b[1;32m    401\u001b[0m \u001b[39mfor\u001b[39;00m ind \u001b[39min\u001b[39;00m inds:\n\u001b[0;32m--> 402\u001b[0m     buff[ind] \u001b[39m=\u001b[39m asanyarray(func1d(inarr_view[ind], \u001b[39m*\u001b[39;49margs, \u001b[39m*\u001b[39;49m\u001b[39m*\u001b[39;49mkwargs))\n\u001b[1;32m    404\u001b[0m \u001b[39mif\u001b[39;00m \u001b[39mnot\u001b[39;00m \u001b[39misinstance\u001b[39m(res, matrix):\n\u001b[1;32m    405\u001b[0m     \u001b[39m# wrap the array, to preserve subclasses\u001b[39;00m\n\u001b[1;32m    406\u001b[0m     buff \u001b[39m=\u001b[39m res\u001b[39m.\u001b[39m__array_wrap__(buff)\n",
      "File \u001b[0;32m~/EnsembleCalibration/ensemblecalibration/sampling/lambda_sampling.py:50\u001b[0m, in \u001b[0;36mmultinomial_label_sampling\u001b[0;34m(probs)\u001b[0m\n\u001b[1;32m     36\u001b[0m \u001b[39m\"\"\"draws a sample y from the categorical distribution\u001b[39;00m\n\u001b[1;32m     37\u001b[0m \u001b[39mdefined by a probaibility vector.\u001b[39;00m\n\u001b[1;32m     38\u001b[0m \n\u001b[0;32m   (...)\u001b[0m\n\u001b[1;32m     47\u001b[0m \u001b[39m    _description_\u001b[39;00m\n\u001b[1;32m     48\u001b[0m \u001b[39m\"\"\"\u001b[39;00m\n\u001b[1;32m     49\u001b[0m \u001b[39mtry\u001b[39;00m:\n\u001b[0;32m---> 50\u001b[0m     draws \u001b[39m=\u001b[39m multinomial(\u001b[39m1\u001b[39;49m, probs)\u001b[39m.\u001b[39mrvs(size\u001b[39m=\u001b[39m\u001b[39m1\u001b[39m)[\u001b[39m0\u001b[39m, :]\n\u001b[1;32m     51\u001b[0m     y \u001b[39m=\u001b[39m np\u001b[39m.\u001b[39margmax(draws)\n\u001b[1;32m     53\u001b[0m \u001b[39mexcept\u001b[39;00m \u001b[39mValueError\u001b[39;00m \u001b[39mas\u001b[39;00m e:\n",
      "File \u001b[0;32m/opt/Anaconda3/envs/calibration_env/lib/python3.8/site-packages/scipy/stats/_multivariate.py:3131\u001b[0m, in \u001b[0;36mmultinomial_gen.__call__\u001b[0;34m(self, n, p, seed)\u001b[0m\n\u001b[1;32m   3126\u001b[0m \u001b[39mdef\u001b[39;00m \u001b[39m__call__\u001b[39m(\u001b[39mself\u001b[39m, n, p, seed\u001b[39m=\u001b[39m\u001b[39mNone\u001b[39;00m):\n\u001b[1;32m   3127\u001b[0m     \u001b[39m\"\"\"Create a frozen multinomial distribution.\u001b[39;00m\n\u001b[1;32m   3128\u001b[0m \n\u001b[1;32m   3129\u001b[0m \u001b[39m    See `multinomial_frozen` for more information.\u001b[39;00m\n\u001b[1;32m   3130\u001b[0m \u001b[39m    \"\"\"\u001b[39;00m\n\u001b[0;32m-> 3131\u001b[0m     \u001b[39mreturn\u001b[39;00m multinomial_frozen(n, p, seed)\n",
      "File \u001b[0;32m/opt/Anaconda3/envs/calibration_env/lib/python3.8/site-packages/scipy/stats/_multivariate.py:3367\u001b[0m, in \u001b[0;36mmultinomial_frozen.__init__\u001b[0;34m(self, n, p, seed)\u001b[0m\n\u001b[1;32m   3366\u001b[0m \u001b[39mdef\u001b[39;00m \u001b[39m__init__\u001b[39m(\u001b[39mself\u001b[39m, n, p, seed\u001b[39m=\u001b[39m\u001b[39mNone\u001b[39;00m):\n\u001b[0;32m-> 3367\u001b[0m     \u001b[39mself\u001b[39m\u001b[39m.\u001b[39m_dist \u001b[39m=\u001b[39m multinomial_gen(seed)\n\u001b[1;32m   3368\u001b[0m     \u001b[39mself\u001b[39m\u001b[39m.\u001b[39mn, \u001b[39mself\u001b[39m\u001b[39m.\u001b[39mp, \u001b[39mself\u001b[39m\u001b[39m.\u001b[39mnpcond \u001b[39m=\u001b[39m \u001b[39mself\u001b[39m\u001b[39m.\u001b[39m_dist\u001b[39m.\u001b[39m_process_parameters(n, p)\n\u001b[1;32m   3370\u001b[0m     \u001b[39m# monkey patch self._dist\u001b[39;00m\n",
      "File \u001b[0;32m/opt/Anaconda3/envs/calibration_env/lib/python3.8/site-packages/scipy/stats/_multivariate.py:3124\u001b[0m, in \u001b[0;36mmultinomial_gen.__init__\u001b[0;34m(self, seed)\u001b[0m\n\u001b[1;32m   3121\u001b[0m \u001b[39mdef\u001b[39;00m \u001b[39m__init__\u001b[39m(\u001b[39mself\u001b[39m, seed\u001b[39m=\u001b[39m\u001b[39mNone\u001b[39;00m):\n\u001b[1;32m   3122\u001b[0m     \u001b[39msuper\u001b[39m()\u001b[39m.\u001b[39m\u001b[39m__init__\u001b[39m(seed)\n\u001b[1;32m   3123\u001b[0m     \u001b[39mself\u001b[39m\u001b[39m.\u001b[39m\u001b[39m__doc__\u001b[39m \u001b[39m=\u001b[39m \\\n\u001b[0;32m-> 3124\u001b[0m         doccer\u001b[39m.\u001b[39;49mdocformat(\u001b[39mself\u001b[39;49m\u001b[39m.\u001b[39;49m\u001b[39m__doc__\u001b[39;49m, multinomial_docdict_params)\n",
      "File \u001b[0;32m/opt/Anaconda3/envs/calibration_env/lib/python3.8/site-packages/scipy/_lib/doccer.py:51\u001b[0m, in \u001b[0;36mdocformat\u001b[0;34m(docstring, docdict)\u001b[0m\n\u001b[1;32m     49\u001b[0m \u001b[39mif\u001b[39;00m \u001b[39mnot\u001b[39;00m docdict:\n\u001b[1;32m     50\u001b[0m     \u001b[39mreturn\u001b[39;00m docstring\n\u001b[0;32m---> 51\u001b[0m lines \u001b[39m=\u001b[39m docstring\u001b[39m.\u001b[39;49mexpandtabs()\u001b[39m.\u001b[39msplitlines()\n\u001b[1;32m     52\u001b[0m \u001b[39m# Find the minimum indent of the main docstring, after first line\u001b[39;00m\n\u001b[1;32m     53\u001b[0m \u001b[39mif\u001b[39;00m \u001b[39mlen\u001b[39m(lines) \u001b[39m<\u001b[39m \u001b[39m2\u001b[39m:\n",
      "\u001b[0;31mKeyboardInterrupt\u001b[0m: "
     ]
    }
   ],
   "source": [
    "df = run_analysis_h0(tests=conf, n_iters=N_ITERS, n_features=N_INSTANCES, n_predictors=N_PREDS,\n",
    "                     n_classes=N_CLASSES, alpha=ALPHA)"
   ]
  },
  {
   "cell_type": "code",
   "execution_count": null,
   "metadata": {},
   "outputs": [],
   "source": []
  }
 ],
 "metadata": {
  "kernelspec": {
   "display_name": "Python 3",
   "language": "python",
   "name": "python3"
  },
  "language_info": {
   "codemirror_mode": {
    "name": "ipython",
    "version": 3
   },
   "file_extension": ".py",
   "mimetype": "text/x-python",
   "name": "python",
   "nbconvert_exporter": "python",
   "pygments_lexer": "ipython3",
   "version": "3.8.15"
  },
  "orig_nbformat": 4
 },
 "nbformat": 4,
 "nbformat_minor": 2
}
